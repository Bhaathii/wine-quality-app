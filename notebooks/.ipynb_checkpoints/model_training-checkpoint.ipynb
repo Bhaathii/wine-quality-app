{
 "cells": [
  {
   "cell_type": "code",
   "execution_count": 2,
   "id": "64b2150a",
   "metadata": {
    "vscode": {
     "languageId": "plaintext"
    }
   },
   "outputs": [
    {
     "ename": "NameError",
     "evalue": "name 'X_train' is not defined",
     "output_type": "error",
     "traceback": [
      "\u001b[1;31m---------------------------------------------------------------------------\u001b[0m",
      "\u001b[1;31mNameError\u001b[0m                                 Traceback (most recent call last)",
      "Cell \u001b[1;32mIn[2], line 11\u001b[0m\n\u001b[0;32m      7\u001b[0m \u001b[38;5;28;01mfrom\u001b[39;00m\u001b[38;5;250m \u001b[39m\u001b[38;5;21;01mimblearn\u001b[39;00m\u001b[38;5;21;01m.\u001b[39;00m\u001b[38;5;21;01mover_sampling\u001b[39;00m\u001b[38;5;250m \u001b[39m\u001b[38;5;28;01mimport\u001b[39;00m SMOTE\n\u001b[0;32m     10\u001b[0m smote \u001b[38;5;241m=\u001b[39m SMOTE(random_state\u001b[38;5;241m=\u001b[39m\u001b[38;5;241m42\u001b[39m)\n\u001b[1;32m---> 11\u001b[0m X_resampled, y_resampled \u001b[38;5;241m=\u001b[39m smote\u001b[38;5;241m.\u001b[39mfit_resample(X_train, y_train)\n\u001b[0;32m     12\u001b[0m model\u001b[38;5;241m.\u001b[39mfit(X_resampled, y_resampled)  \u001b[38;5;66;03m# Train on balanced data\u001b[39;00m\n\u001b[0;32m     14\u001b[0m \u001b[38;5;66;03m# Load data\u001b[39;00m\n",
      "\u001b[1;31mNameError\u001b[0m: name 'X_train' is not defined"
     ]
    }
   ],
   "source": [
    "import pandas as pd\n",
    "from sklearn.model_selection import train_test_split\n",
    "from sklearn.ensemble import RandomForestClassifier\n",
    "from sklearn.svm import SVC\n",
    "from sklearn.metrics import accuracy_score, f1_score, confusion_matrix\n",
    "import joblib\n",
    "from imblearn.over_sampling import SMOTE\n",
    "\n",
    "\n",
    "smote = SMOTE(random_state=42)\n",
    "X_resampled, y_resampled = smote.fit_resample(X_train, y_train)\n",
    "model.fit(X_resampled, y_resampled)  # Train on balanced data\n",
    "\n",
    "# Load data\n",
    "df = pd.read_csv(\"../data/winequality-red.csv\")\n",
    "\n",
    "# Preprocessing\n",
    "df['quality'] = df['quality'].apply(lambda x: 1 if x >= 7 else 0)  # Binary classification\n",
    "X = df.drop('quality', axis=1)\n",
    "y = df['quality']\n",
    "X_train, X_test, y_train, y_test = train_test_split(X, y, test_size=0.2, random_state=42)\n",
    "\n",
    "# Train models\n",
    "rf = RandomForestClassifier()\n",
    "svm = SVC(probability=True)\n",
    "rf.fit(X_train, y_train)\n",
    "svm.fit(X_train, y_train)\n",
    "\n",
    "# Evaluate\n",
    "rf_pred = rf.predict(X_test)\n",
    "svm_pred = svm.predict(X_test)\n",
    "print(\"Random Forest Accuracy:\", accuracy_score(y_test, rf_pred))\n",
    "print(\"SVM F1-Score:\", f1_score(y_test, svm_pred))\n",
    "\n",
    "# Save best model (Random Forest)\n",
    "joblib.dump({\n",
    "    'model': rf,\n",
    "    'X_test': X_test,\n",
    "    'y_test': y_test,\n",
    "    'rf_pred': rf_pred\n",
    "}, \"model_and_test_data.joblib\")\n",
    "# Create new features\n",
    "df['alcohol_to_acidity'] = df['alcohol'] / df['fixed acidity']\n",
    "df['sulphates_to_chlorides'] = df['sulphates'] / df['chlorides']\n"
   ]
  },
  {
   "cell_type": "code",
   "execution_count": null,
   "id": "17886f13-40e2-4a26-94f0-17839896f938",
   "metadata": {},
   "outputs": [],
   "source": []
  },
  {
   "cell_type": "code",
   "execution_count": null,
   "id": "6eac2a5a-53cd-453f-bcd8-ac696b2939e6",
   "metadata": {},
   "outputs": [],
   "source": []
  },
  {
   "cell_type": "code",
   "execution_count": null,
   "id": "d6244001-8b9d-48c8-9099-fa1beb8b91d7",
   "metadata": {},
   "outputs": [],
   "source": []
  },
  {
   "cell_type": "code",
   "execution_count": null,
   "id": "53e59410-42b8-4147-9459-48d973f2fc4f",
   "metadata": {},
   "outputs": [],
   "source": []
  },
  {
   "cell_type": "code",
   "execution_count": null,
   "id": "60804c69-5505-4903-87b2-9ebea090b608",
   "metadata": {},
   "outputs": [],
   "source": []
  }
 ],
 "metadata": {
  "kernelspec": {
   "display_name": "Python [conda env:base] *",
   "language": "python",
   "name": "conda-base-py"
  },
  "language_info": {
   "codemirror_mode": {
    "name": "ipython",
    "version": 3
   },
   "file_extension": ".py",
   "mimetype": "text/x-python",
   "name": "python",
   "nbconvert_exporter": "python",
   "pygments_lexer": "ipython3",
   "version": "3.13.5"
  }
 },
 "nbformat": 4,
 "nbformat_minor": 5
}
