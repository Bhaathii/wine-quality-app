{
 "cells": [
  {
   "cell_type": "code",
   "execution_count": 1,
   "id": "64b2150a",
   "metadata": {},
   "outputs": [
    {
     "name": "stdout",
     "output_type": "stream",
     "text": [
      "Random Forest Accuracy: 0.9\n",
      "SVM F1-Score: 0.041666666666666664\n"
     ]
    },
    {
     "data": {
      "text/plain": [
       "['../model.joblib']"
      ]
     },
     "execution_count": 1,
     "metadata": {},
     "output_type": "execute_result"
    }
   ],
   "source": [
    "import pandas as pd\n",
    "from sklearn.model_selection import train_test_split\n",
    "from sklearn.ensemble import RandomForestClassifier\n",
    "from sklearn.svm import SVC\n",
    "from sklearn.metrics import accuracy_score, f1_score, confusion_matrix\n",
    "import joblib\n",
    "\n",
    "# Load data\n",
    "df = pd.read_csv(\"../data/winequality-red.csv\")\n",
    "\n",
    "# Preprocessing\n",
    "df['quality'] = df['quality'].apply(lambda x: 1 if x >= 7 else 0)  # Binary classification\n",
    "X = df.drop('quality', axis=1)\n",
    "y = df['quality']\n",
    "X_train, X_test, y_train, y_test = train_test_split(X, y, test_size=0.2, random_state=42)\n",
    "\n",
    "# Train models\n",
    "rf = RandomForestClassifier()\n",
    "svm = SVC(probability=True)\n",
    "rf.fit(X_train, y_train)\n",
    "svm.fit(X_train, y_train)\n",
    "\n",
    "# Evaluate\n",
    "rf_pred = rf.predict(X_test)\n",
    "svm_pred = svm.predict(X_test)\n",
    "print(\"Random Forest Accuracy:\", accuracy_score(y_test, rf_pred))\n",
    "print(\"SVM F1-Score:\", f1_score(y_test, svm_pred))\n",
    "\n",
    "# Save best model (Random Forest)\n",
    "joblib.dump(rf, \"../model.joblib\")"
   ]
  },
  {
   "cell_type": "code",
   "execution_count": null,
   "id": "17886f13-40e2-4a26-94f0-17839896f938",
   "metadata": {},
   "outputs": [],
   "source": []
  },
  {
   "cell_type": "code",
   "execution_count": null,
   "id": "6eac2a5a-53cd-453f-bcd8-ac696b2939e6",
   "metadata": {},
   "outputs": [],
   "source": []
  },
  {
   "cell_type": "code",
   "execution_count": null,
   "id": "d6244001-8b9d-48c8-9099-fa1beb8b91d7",
   "metadata": {},
   "outputs": [],
   "source": []
  },
  {
   "cell_type": "code",
   "execution_count": null,
   "id": "53e59410-42b8-4147-9459-48d973f2fc4f",
   "metadata": {},
   "outputs": [],
   "source": []
  },
  {
   "cell_type": "code",
   "execution_count": null,
   "id": "60804c69-5505-4903-87b2-9ebea090b608",
   "metadata": {},
   "outputs": [],
   "source": []
  }
 ],
 "metadata": {
  "kernelspec": {
   "display_name": "Python [conda env:base] *",
   "language": "python",
   "name": "conda-base-py"
  },
  "language_info": {
   "codemirror_mode": {
    "name": "ipython",
    "version": 3
   },
   "file_extension": ".py",
   "mimetype": "text/x-python",
   "name": "python",
   "nbconvert_exporter": "python",
   "pygments_lexer": "ipython3",
   "version": "3.13.5"
  }
 },
 "nbformat": 4,
 "nbformat_minor": 5
}
